{
 "cells": [
  {
   "cell_type": "markdown",
   "id": "b49234a5",
   "metadata": {},
   "source": [
    "Method for estimating the canopy cover of a 20x20 meters area using LiDAR data. \n",
    "\n",
    "Given this 20x20 meters area, the canopy cover is estimated as the percentage of points that are from a given class (in this case class = 5, as it is vegetation >3m) inside each point. "
   ]
  },
  {
   "cell_type": "code",
   "execution_count": 10,
   "id": "37d544b8",
   "metadata": {},
   "outputs": [],
   "source": [
    "import pandas as pd\n",
    "import numpy as np\n",
    "from sklearn.metrics import r2_score\n",
    "from matplotlib import pyplot as plt\n",
    "import time\n",
    "from GFire_utils.AllFunctions import *\n",
    "\n",
    "pd.set_option('display.max_columns', None)"
   ]
  },
  {
   "cell_type": "code",
   "execution_count": 11,
   "id": "3d2f3077",
   "metadata": {},
   "outputs": [],
   "source": [
    "# Hyperparameters\n",
    "x_coord = 'x'\n",
    "y_coord = 'y'\n",
    "z_coord = 'z'\n",
    "lidar_columns = [x_coord, y_coord, z_coord, 'class']\n",
    "groundtruth_columns = [x_coord, y_coord, 'CC']\n",
    "outliers = 135\n",
    "\n",
    "gt_inc = 20 # Meters increment of each point of the lidar blocks\n",
    "\n",
    "gt_centered = True # True if the coordenates of the gt are the center of the block. False if are the bottom-left edge\n",
    "\n",
    "vegetation = [5]"
   ]
  },
  {
   "cell_type": "code",
   "execution_count": 12,
   "id": "54121280",
   "metadata": {},
   "outputs": [],
   "source": [
    "# LiDAR and groundtruth reading\n",
    "my_block = pd.read_csv('../toy dataset/input_toydataset.txt', sep=' ', header = None, names = lidar_columns)\n",
    "groundtruth = pd.read_csv('../toy dataset/groundtruth_toydataset.csv', sep=' ', header = None, names = groundtruth_columns)"
   ]
  },
  {
   "cell_type": "code",
   "execution_count": 13,
   "id": "e3ee4b90",
   "metadata": {},
   "outputs": [],
   "source": [
    "# Fixing formats \n",
    "if gt_centered:\n",
    "    groundtruth[x_coord] -= gt_inc/2\n",
    "    groundtruth[y_coord] -= gt_inc/2\n",
    "    \n",
    "# Percentage cannot exceed 100 \n",
    "aux = groundtruth['CC'].copy()\n",
    "aux[aux>100] = 100\n",
    "groundtruth['CC'] = aux\n",
    "\n",
    "# Dropping outliers\n",
    "my_block = my_block[my_block['class'] != outliers]\n",
    "\n",
    "# Matching gt and block\n",
    "if (my_block[x_coord][0] //gt_inc * gt_inc) % gt_inc != groundtruth[x_coord][0] % gt_inc: \n",
    "    # Blocks don't match, ones are even and others are odd\n",
    "    print(\"Blocks adjusted\")\n",
    "    adj_x = 2*(my_block[x_coord] % gt_inc > gt_inc/2)-1\n",
    "    adj_y = 2*(my_block[y_coord] % gt_inc > gt_inc/2)-1\n",
    "else:\n",
    "    adj_x = 0\n",
    "    adj_y = 0"
   ]
  },
  {
   "cell_type": "code",
   "execution_count": 14,
   "id": "a4f6291e",
   "metadata": {},
   "outputs": [],
   "source": [
    "# Grouping points into blocks\n",
    "my_block['x_p'] = my_block[x_coord]// gt_inc * gt_inc + gt_inc/2 * adj_x\n",
    "my_block['y_p'] = my_block[y_coord]// gt_inc * gt_inc + gt_inc/2 * adj_y"
   ]
  },
  {
   "cell_type": "code",
   "execution_count": 15,
   "id": "8af023d3",
   "metadata": {},
   "outputs": [],
   "source": [
    "df_vegetation = my_block[my_block['class'].isin(vegetation)].copy()\n",
    "\n",
    "df_vegetation = df_vegetation.groupby(['x_p','y_p'])['class'].count().reset_index()\n",
    "df_vegetation = df_vegetation.rename({'class': 'vegetation_points'}, axis=1)\n",
    "\n",
    "my_block = my_block.groupby(['x_p','y_p'])['class'].count().reset_index()\n",
    "my_block = my_block.rename({'class': 'all_points'}, axis=1)\n",
    "\n",
    "my_block = pd.merge(my_block, df_vegetation, how='left', on = ['x_p','y_p'])\n",
    "my_block['vegetation_points'].fillna(0, inplace=True)\n",
    "\n",
    "my_block['predicted_CC'] = 100*my_block['vegetation_points'] / my_block['all_points']"
   ]
  },
  {
   "cell_type": "code",
   "execution_count": 16,
   "id": "e07719a4",
   "metadata": {},
   "outputs": [],
   "source": [
    "# Merging gt and blocks\n",
    "groundtruth.columns = ['x_p','y_p','CC']\n",
    "my_block = pd.merge(my_block, groundtruth, how='inner', on = ['x_p', 'y_p'])\n",
    "\n",
    "if my_block.shape[0] != groundtruth.shape[0]:\n",
    "    print(\"Groundtruth merging done wrong\")"
   ]
  },
  {
   "cell_type": "code",
   "execution_count": 17,
   "id": "57c75520",
   "metadata": {},
   "outputs": [
    {
     "name": "stdout",
     "output_type": "stream",
     "text": [
      "R2 score: 0.6759572549233133\n"
     ]
    }
   ],
   "source": [
    "# Calculating score\n",
    "r2 = r2_score(my_block['CC'], my_block['predicted_CC'])\n",
    "\n",
    "print(\"R2 score:\", r2)"
   ]
  },
  {
   "cell_type": "code",
   "execution_count": 18,
   "id": "450dcb83",
   "metadata": {},
   "outputs": [
    {
     "data": {
      "image/png": "[encoded data removed]",
      "text/plain": [
       "<Figure size 432x288 with 1 Axes>"
      ]
     },
     "metadata": {
      "needs_background": "light"
     },
     "output_type": "display_data"
    }
   ],
   "source": [
    "# Plotting the results\n",
    "my_block.plot.scatter('CC', 'predicted_CC')\n",
    "plt.xlim(0, 100)\n",
    "plt.ylim(0,100)\n",
    "plt.plot([0,100],[0,100], c='r')\n",
    "\n",
    "plt.show()"
   ]
  },
  {
   "cell_type": "code",
   "execution_count": null,
   "id": "220df6e1",
   "metadata": {},
   "outputs": [],
   "source": []
  }
 ],
 "metadata": {
  "kernelspec": {
   "display_name": "Python 3 (ipykernel)",
   "language": "python",
   "name": "python3"
  },
  "language_info": {
   "codemirror_mode": {
    "name": "ipython",
    "version": 3
   },
   "file_extension": ".py",
   "mimetype": "text/x-python",
   "name": "python",
   "nbconvert_exporter": "python",
   "pygments_lexer": "ipython3",
   "version": "3.9.12"
  }
 },
 "nbformat": 4,
 "nbformat_minor": 5
}
