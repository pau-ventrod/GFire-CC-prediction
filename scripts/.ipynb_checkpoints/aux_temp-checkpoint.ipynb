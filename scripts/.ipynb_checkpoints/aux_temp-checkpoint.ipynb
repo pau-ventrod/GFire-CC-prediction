{
 "cells": [
  {
   "cell_type": "code",
   "execution_count": 8,
   "id": "f997bda7",
   "metadata": {},
   "outputs": [],
   "source": [
    "import pandas as pd\n",
    "import numpy as np\n",
    "from sklearn.metrics import r2_score\n",
    "from matplotlib import pyplot as plt\n",
    "import time\n",
    "from GFire_utils.AllFunctions import *\n",
    "\n",
    "pd.set_option('display.max_columns', None)"
   ]
  },
  {
   "cell_type": "code",
   "execution_count": 9,
   "id": "65c59813",
   "metadata": {},
   "outputs": [],
   "source": [
    "# Hyperparameters\n",
    "vegetation = [5] # Classes corresponding to vegetation\n",
    "columns = ['x','y','z', 'class']\n",
    "outliers = [135]\n",
    "\n",
    "xinc = 20 # Meters increment of each point of the groundtruth\n",
    "yinc = 20\n",
    "\n",
    "threshold_list = [10] #np.arange(0, 20, 1) # Meters from which we start considering that a vegetation is part of the cover"
   ]
  },
  {
   "cell_type": "code",
   "execution_count": 10,
   "id": "9e73f062",
   "metadata": {},
   "outputs": [],
   "source": [
    "# File reading\n",
    "my_block = pd.read_csv('../nonzerogt_dataset/input_nonzerogt.txt', sep=' ', header = None, names = columns)\n",
    "groundtruth = pd.read_csv('../nonzerogt_dataset/groundtruth_nonzerogt.csv', sep=' ', header = None, names = ['x','y','CC'])"
   ]
  },
  {
   "cell_type": "code",
   "execution_count": 11,
   "id": "0d91add6",
   "metadata": {},
   "outputs": [],
   "source": [
    "# Heights reading\n",
    "metadata = pd.read_csv('../nonzerogt_dataset/met2v10as0f298107mr1r010.txt', sep=' ',skipinitialspace=True, header = None,\n",
    "                       skip_blank_lines=True, nrows=6)\n",
    "\n",
    "NCOLS, NROWS, XCENT, YCENT, CELLSIZE, NODATA_VALUE = map(int, metadata.iloc[:][1])\n",
    "heights = pd.read_csv('../nonzerogt_dataset/met2v10as0f298107mr1r010.txt', sep=' ', header = None, skip_blank_lines=True, skiprows=6)\n",
    "\n",
    "heights = fix_format(heights, NCOLS)\n",
    "heights = index_matrix(heights, XCENT, YCENT, CELLSIZE)\n",
    "heights.columns = ['x_point', 'y_point', 'real_z']"
   ]
  },
  {
   "cell_type": "code",
   "execution_count": 12,
   "id": "8f5c0747",
   "metadata": {},
   "outputs": [
    {
     "name": "stdout",
     "output_type": "stream",
     "text": [
      "r2 Accuracy:  0.9778801758652331\n"
     ]
    },
    {
     "data": {
      "image/png": "[encoded data removed]",
      "text/plain": [
       "<Figure size 432x288 with 1 Axes>"
      ]
     },
     "metadata": {
      "needs_background": "light"
     },
     "output_type": "display_data"
    }
   ],
   "source": [
    "# Check how good our method predicts a block's height\n",
    "grouping_size = 2 # Side of the square where we consider that the height is constant in meters\n",
    "\n",
    "my_block['x'] = my_block['x'].map(int)\n",
    "my_block['y'] = my_block['y'].map(int)\n",
    "\n",
    "my_block_2 = my_block.copy()\n",
    "heights_2 = heights.copy()\n",
    "\n",
    "# Grouping pixels by 2x2m points\n",
    "my_block_2['x_point'] = ( my_block_2['x']// grouping_size )*grouping_size\n",
    "my_block_2['y_point'] = ( my_block_2['y']// grouping_size )*grouping_size\n",
    "\n",
    "heights_2['x_point'] = ( heights_2['x_point']// grouping_size )*grouping_size\n",
    "heights_2['y_point'] = ( heights_2['y_point']// grouping_size )*grouping_size\n",
    "\n",
    "my_block_2 = my_block_2.groupby(['x_point','y_point'])[['z']].min().reset_index()\n",
    "heights_2 = heights_2.groupby(['x_point','y_point'])[['real_z']].min().reset_index()\n",
    "\n",
    "my_block_2.columns = ['x_point','y_point', 'predicted_z']\n",
    "\n",
    "new_df = pd.merge(my_block_2, heights_2, on=['x_point','y_point'], how='left')\n",
    "\n",
    "acc = r2_score(new_df['real_z'], new_df['predicted_z'])\n",
    "\n",
    "print(\"r2 Accuracy: \", acc)\n",
    "\n",
    "new_df.plot.scatter(x='real_z', y = 'predicted_z')\n",
    "plt.xlim(150,250)\n",
    "plt.ylim(150,250)\n",
    "plt.plot([0,240], [0, 240], c='red')\n",
    "plt.show()"
   ]
  },
  {
   "cell_type": "code",
   "execution_count": null,
   "id": "ad9902c2",
   "metadata": {},
   "outputs": [],
   "source": []
  },
  {
   "cell_type": "code",
   "execution_count": null,
   "id": "94aec0fb",
   "metadata": {},
   "outputs": [
    {
     "name": "stderr",
     "output_type": "stream",
     "text": [
      "C:\\Users\\Pau\\AppData\\Local\\Temp\\ipykernel_12352\\1317877974.py:33: SettingWithCopyWarning: \n",
      "A value is trying to be set on a copy of a slice from a DataFrame.\n",
      "Try using .loc[row_indexer,col_indexer] = value instead\n",
      "\n",
      "See the caveats in the documentation: https://pandas.pydata.org/pandas-docs/stable/user_guide/indexing.html#returning-a-view-versus-a-copy\n",
      "  df_canopy['counted_canopy'] = np.zeros(df_canopy.shape[0])\n",
      "C:\\Users\\Pau\\AppData\\Local\\Temp\\ipykernel_12352\\1317877974.py:33: SettingWithCopyWarning: \n",
      "A value is trying to be set on a copy of a slice from a DataFrame.\n",
      "Try using .loc[row_indexer,col_indexer] = value instead\n",
      "\n",
      "See the caveats in the documentation: https://pandas.pydata.org/pandas-docs/stable/user_guide/indexing.html#returning-a-view-versus-a-copy\n",
      "  df_canopy['counted_canopy'] = np.zeros(df_canopy.shape[0])\n",
      "C:\\Users\\Pau\\AppData\\Local\\Temp\\ipykernel_12352\\1317877974.py:33: SettingWithCopyWarning: \n",
      "A value is trying to be set on a copy of a slice from a DataFrame.\n",
      "Try using .loc[row_indexer,col_indexer] = value instead\n",
      "\n",
      "See the caveats in the documentation: https://pandas.pydata.org/pandas-docs/stable/user_guide/indexing.html#returning-a-view-versus-a-copy\n",
      "  df_canopy['counted_canopy'] = np.zeros(df_canopy.shape[0])\n",
      "C:\\Users\\Pau\\AppData\\Local\\Temp\\ipykernel_12352\\1317877974.py:33: SettingWithCopyWarning: \n",
      "A value is trying to be set on a copy of a slice from a DataFrame.\n",
      "Try using .loc[row_indexer,col_indexer] = value instead\n",
      "\n",
      "See the caveats in the documentation: https://pandas.pydata.org/pandas-docs/stable/user_guide/indexing.html#returning-a-view-versus-a-copy\n",
      "  df_canopy['counted_canopy'] = np.zeros(df_canopy.shape[0])\n",
      "C:\\Users\\Pau\\AppData\\Local\\Temp\\ipykernel_12352\\1317877974.py:33: SettingWithCopyWarning: \n",
      "A value is trying to be set on a copy of a slice from a DataFrame.\n",
      "Try using .loc[row_indexer,col_indexer] = value instead\n",
      "\n",
      "See the caveats in the documentation: https://pandas.pydata.org/pandas-docs/stable/user_guide/indexing.html#returning-a-view-versus-a-copy\n",
      "  df_canopy['counted_canopy'] = np.zeros(df_canopy.shape[0])\n",
      "C:\\Users\\Pau\\AppData\\Local\\Temp\\ipykernel_12352\\1317877974.py:33: SettingWithCopyWarning: \n",
      "A value is trying to be set on a copy of a slice from a DataFrame.\n",
      "Try using .loc[row_indexer,col_indexer] = value instead\n",
      "\n",
      "See the caveats in the documentation: https://pandas.pydata.org/pandas-docs/stable/user_guide/indexing.html#returning-a-view-versus-a-copy\n",
      "  df_canopy['counted_canopy'] = np.zeros(df_canopy.shape[0])\n"
     ]
    }
   ],
   "source": [
    "th_list = np.arange(1, 20, 1)\n",
    "my_acc = []\n",
    "\n",
    "for threshold in th_list:\n",
    "    # File reading\n",
    "    # File reading\n",
    "    my_block = pd.read_csv('../nonzerogt_dataset/input_nonzerogt.txt', sep=' ', header = None, names = columns)\n",
    "    groundtruth = pd.read_csv('../nonzerogt_dataset/groundtruth_nonzerogt.csv', sep=' ', header = None, names = ['x','y','CC'])\n",
    "    grouping_size = 2 # Side of the square where we consider that the height is constant in meters\n",
    "    my_block['x_point'] = ( my_block['x']// grouping_size )*grouping_size\n",
    "    my_block['y_point'] = ( my_block['y']// grouping_size )*grouping_size\n",
    "\n",
    "    heights['x_point'] = ( heights['x_point']// grouping_size )*grouping_size\n",
    "    heights['y_point'] = ( heights['y_point']// grouping_size )*grouping_size\n",
    "\n",
    "    my_block = pd.merge(my_block, heights, on=['x_point','y_point'], how='left')\n",
    "\n",
    "    my_block['height'] = my_block['z'] - my_block['real_z']\n",
    "\n",
    "\n",
    "    # Grouping now for each point as the GT has 20x20m size\n",
    "    grouping_size = 20\n",
    "\n",
    "    my_block['x_point'] = ( my_block['x']// grouping_size )*grouping_size + 10*(2*(my_block['x'] % 20 > 10)-1)\n",
    "    my_block['y_point'] = ( my_block['y']// grouping_size )*grouping_size + 10*(2*(my_block['y'] % 20 > 10)-1)\n",
    "    \n",
    "#     my_block['x_point'] += 10\n",
    "#     my_block['y_point'] += 10\n",
    "    \n",
    "    # Approach 1: si només un pixel és superior al threshold considerem que aquell punt es tot CC 100%\n",
    "    df_canopy = my_block.query('height > @threshold')\n",
    "\n",
    "    df_canopy['counted_canopy'] = np.zeros(df_canopy.shape[0])\n",
    "    df_canopy = df_canopy.groupby(['x_point','y_point'])[['counted_canopy']].count().reset_index()\n",
    "\n",
    "    my_block['counted_no_canopy'] = np.zeros(my_block.shape[0])\n",
    "    my_block = my_block.groupby(['x_point','y_point'])[['counted_no_canopy']].count().reset_index()\n",
    "\n",
    "    my_block = pd.merge(my_block, df_canopy, how='left', on = ['x_point','y_point'])\n",
    "\n",
    "    my_block['counted_canopy'].fillna(0, inplace=True)\n",
    "    my_block['predicted_CC'] = 100*my_block['counted_canopy'] / my_block['counted_no_canopy']\n",
    "\n",
    "    groundtruth.columns = ['x_point','y_point','CC']\n",
    "    my_block = pd.merge(my_block, groundtruth, how='inner', on = ['x_point','y_point'])\n",
    "\n",
    "    r2 = r2_score(my_block['CC'], my_block['predicted_CC'])\n",
    "\n",
    "    my_acc.append(r2)"
   ]
  },
  {
   "cell_type": "code",
   "execution_count": null,
   "id": "0377fffc",
   "metadata": {
    "scrolled": true
   },
   "outputs": [],
   "source": [
    "plt.scatter(th_list, my_acc)\n",
    "plt.plot(th_list, my_acc)\n",
    "plt.show()"
   ]
  },
  {
   "cell_type": "code",
   "execution_count": null,
   "id": "a712634c",
   "metadata": {},
   "outputs": [],
   "source": []
  },
  {
   "cell_type": "code",
   "execution_count": null,
   "id": "8926d5c2",
   "metadata": {},
   "outputs": [],
   "source": []
  },
  {
   "cell_type": "code",
   "execution_count": null,
   "id": "291c3da9",
   "metadata": {},
   "outputs": [],
   "source": [
    "# Choosing best threshold\n",
    "losses = []\n",
    "\n",
    "xmin = min(groundtruth['x']); xmax = max(groundtruth['x'])\n",
    "ymin = min(groundtruth['y']); ymax = max(groundtruth['y'])\n",
    "\n",
    "t0 = time.time()\n",
    "for th in threshold_list:\n",
    "    point_cc = []\n",
    "    gt_cc = []\n",
    "    for now_x in np.arange(xmin, xmax+xinc, xinc):\n",
    "        for now_y in np.arange(ymin, ymax+yinc, yinc):\n",
    "\n",
    "            my_point = my_block[ (my_block['x'] >= now_x) & (my_block['x'] < now_x+xinc) \n",
    "                           & (my_block['y'] >= now_y) & (my_block['y'] < now_y+yinc)]\n",
    "    \n",
    "            point_cc.append(CC_manual_percentage_app3(my_point, outliers, vegetation))\n",
    "            aux = groundtruth[ (groundtruth['x'] == now_x) & (groundtruth['y'] == now_y) ][['CC']].iloc[0][0]\n",
    "            if aux > 100:\n",
    "                aux = 100\n",
    "            gt_cc.append( aux ) \n",
    "    \n",
    "    losses.append(r2_score(gt_cc, point_cc))\n",
    "    \n",
    "print(\"Execution time with\", len(threshold_list),\"iterations:\", time.time()-t0)"
   ]
  },
  {
   "cell_type": "code",
   "execution_count": null,
   "id": "7e798185",
   "metadata": {},
   "outputs": [],
   "source": [
    "plt.subplots(figsize=(15, 10))\n",
    "\n",
    "plt.scatter(gt_cc, point_cc)\n",
    "plt.xlabel('groundtruth CC')\n",
    "plt.ylabel('predicted CC')\n",
    "plt.plot([0,100],[0,100], color='red')\n",
    "plt.show()"
   ]
  },
  {
   "cell_type": "code",
   "execution_count": null,
   "id": "ec30304e",
   "metadata": {},
   "outputs": [],
   "source": [
    "plt.subplots(figsize=(15, 10))\n",
    "\n",
    "plt.scatter(threshold_list, losses)\n",
    "plt.plot(threshold_list, losses)\n",
    "\n",
    "plt.xlabel('Threshold List')\n",
    "plt.ylabel('Rsq')\n",
    "plt.show()"
   ]
  },
  {
   "cell_type": "code",
   "execution_count": null,
   "id": "9fab1f87",
   "metadata": {},
   "outputs": [],
   "source": []
  },
  {
   "cell_type": "code",
   "execution_count": null,
   "id": "89d39568",
   "metadata": {},
   "outputs": [],
   "source": []
  },
  {
   "cell_type": "code",
   "execution_count": null,
   "id": "88530c58",
   "metadata": {},
   "outputs": [],
   "source": []
  },
  {
   "cell_type": "code",
   "execution_count": null,
   "id": "24eb4e3d",
   "metadata": {},
   "outputs": [],
   "source": []
  },
  {
   "cell_type": "code",
   "execution_count": null,
   "id": "1ca2bd29",
   "metadata": {},
   "outputs": [],
   "source": []
  }
 ],
 "metadata": {
  "kernelspec": {
   "display_name": "Python 3 (ipykernel)",
   "language": "python",
   "name": "python3"
  },
  "language_info": {
   "codemirror_mode": {
    "name": "ipython",
    "version": 3
   },
   "file_extension": ".py",
   "mimetype": "text/x-python",
   "name": "python",
   "nbconvert_exporter": "python",
   "pygments_lexer": "ipython3",
   "version": "3.9.12"
  }
 },
 "nbformat": 4,
 "nbformat_minor": 5
}
