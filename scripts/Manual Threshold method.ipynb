{
 "cells": [
  {
   "cell_type": "markdown",
   "id": "1b5e2a2a",
   "metadata": {},
   "source": [
    "Method for estimating the canopy cover of a 20x20 meters area using LiDAR data. \n",
    "\n",
    "Given this 20x20 meters area, the canopy cover is estimated as the percentage of points that are above a certain threshold (in this case 3 meters) inside each point. \n",
    "\n",
    "To find the best threshold a grid can be used. It can also be estimated using the average tree height of that zone, from other sources data."
   ]
  },
  {
   "cell_type": "code",
   "execution_count": 34,
   "id": "f997bda7",
   "metadata": {},
   "outputs": [],
   "source": [
    "import pandas as pd\n",
    "import numpy as np\n",
    "from sklearn.metrics import r2_score\n",
    "from matplotlib import pyplot as plt\n",
    "import time\n",
    "from GFire_utils.AllFunctions import *\n",
    "\n",
    "pd.set_option('display.max_columns', None)"
   ]
  },
  {
   "cell_type": "code",
   "execution_count": 35,
   "id": "65c59813",
   "metadata": {},
   "outputs": [],
   "source": [
    "# Hyperparameters\n",
    "x_coord = 'x'\n",
    "y_coord = 'y'\n",
    "z_coord = 'z'\n",
    "lidar_columns = [x_coord, y_coord, z_coord, 'class']\n",
    "groundtruth_columns = [x_coord, y_coord, 'CC']\n",
    "heights_columns = [x_coord, y_coord, z_coord]\n",
    "outliers = 135\n",
    "\n",
    "gt_inc = 20 # Meters increment of each point of the lidar blocks\n",
    "height_inc = 2 \n",
    "\n",
    "gt_centered = True # True if the coordenates of the gt are the center of the block. False if are the bottom-left edge\n",
    "height_centered = True \n",
    "\n",
    "threshold = 3 # Meters from which we start considering that a vegetation is part of the cover"
   ]
  },
  {
   "cell_type": "code",
   "execution_count": 36,
   "id": "9e73f062",
   "metadata": {},
   "outputs": [],
   "source": [
    "# LiDAR and groundtruth reading\n",
    "my_block = pd.read_csv('../toy dataset/input_toydataset.txt', sep=' ', header = None, names = lidar_columns)\n",
    "groundtruth = pd.read_csv('../toy dataset/groundtruth_toydataset.csv', sep=' ', header = None, names = groundtruth_columns)\n",
    "\n",
    "# Heights reading\n",
    "metadata = pd.read_csv('../toy dataset/met2v10as0f279122mr1r010.txt', sep=' ', skipinitialspace=True, header = None,\n",
    "                       skip_blank_lines=True, nrows=6)\n",
    "NCOLS, NROWS, XCENT, YCENT, CELLSIZE, NODATA_VALUE = map(int, metadata.iloc[:][1])\n",
    "\n",
    "heights = pd.read_csv('../toy dataset/met2v10as0f279122mr1r010.txt', sep=' ', header = None,\n",
    "                      skip_blank_lines=True, skiprows=6)"
   ]
  },
  {
   "cell_type": "code",
   "execution_count": 37,
   "id": "0d91add6",
   "metadata": {},
   "outputs": [],
   "source": [
    "# Fixing formats\n",
    "heights = fix_format(heights, NCOLS)\n",
    "heights = index_matrix(heights, XCENT, YCENT, CELLSIZE)\n",
    "heights.columns = heights_columns\n",
    "\n",
    "if height_centered: # Situating Coordenates to the bottom left corner of the square\n",
    "    heights[x_coord] -= height_inc/2\n",
    "    heights[y_coord] -= height_inc/2\n",
    "    \n",
    "if gt_centered:\n",
    "    groundtruth[x_coord] -= gt_inc/2\n",
    "    groundtruth[y_coord] -= gt_inc/2\n",
    "    \n",
    "# Percentage cannot exceed 100 \n",
    "aux = groundtruth['CC'].copy()\n",
    "aux[aux>100] = 100\n",
    "groundtruth['CC'] = aux\n",
    "\n",
    "# Dropping outliers\n",
    "my_block = my_block[my_block['class'] != outliers]\n",
    "\n",
    "# Matching gt and block\n",
    "if (my_block[x_coord][0] //gt_inc * gt_inc) % gt_inc != groundtruth[x_coord][0] % gt_inc: \n",
    "    # Blocks don't match, ones are even and others are odd\n",
    "    adj_x = 2*(my_block[x_coord] % gt_inc > gt_inc/2)-1\n",
    "    adj_y = 2*(my_block[y_coord] % gt_inc > gt_inc/2)-1\n",
    "else:\n",
    "    adj_x = 0\n",
    "    adj_y = 0"
   ]
  },
  {
   "cell_type": "code",
   "execution_count": 38,
   "id": "94aec0fb",
   "metadata": {},
   "outputs": [],
   "source": [
    "# Merging heights and points\n",
    "my_block['height_merging_x'] = ( my_block[x_coord]// height_inc ) * height_inc\n",
    "my_block['height_merging_y'] = ( my_block[y_coord]// height_inc ) * height_inc\n",
    "\n",
    "heights.columns = ['height_merging_x','height_merging_y', 'surface_z']\n",
    "if (my_block['height_merging_x'][0] //height_inc * height_inc) % height_inc != heights['height_merging_x'][0] % height_inc: \n",
    "    # Blocks don't match, ones are even and others are odd\n",
    "    my_block['height_merging_x'] += height_inc/2 * (2*(my_block['height_merging_x'] % 2 == 1)-1)\n",
    "    my_block['height_merging_y'] += height_inc/2 * (2*(my_block['height_merging_y'] % 2 == 1)-1)\n",
    "\n",
    "my_block = pd.merge(my_block, heights, on=['height_merging_x','height_merging_y'], how='left')\n",
    "\n",
    "if my_block['surface_z'].isnull().sum() != 0:\n",
    "    print(\"Height Merging was not made correctly\")"
   ]
  },
  {
   "cell_type": "code",
   "execution_count": 39,
   "id": "25873d30",
   "metadata": {},
   "outputs": [],
   "source": [
    "# Calculating height\n",
    "my_block['height'] = my_block[z_coord] - my_block['surface_z']\n",
    "\n",
    "my_block.drop(['surface_z', 'height_merging_x', 'height_merging_y'], axis=1, inplace=True)"
   ]
  },
  {
   "cell_type": "code",
   "execution_count": 40,
   "id": "5d6123da",
   "metadata": {},
   "outputs": [],
   "source": [
    "# Grouping points into blocks\n",
    "my_block['x_p'] = my_block[x_coord]// gt_inc * gt_inc + gt_inc/2 * adj_x\n",
    "my_block['y_p'] = my_block[y_coord]// gt_inc * gt_inc + gt_inc/2 * adj_y"
   ]
  },
  {
   "cell_type": "code",
   "execution_count": 41,
   "id": "2607f192",
   "metadata": {},
   "outputs": [],
   "source": [
    "# # Approach 1: Definim el percentatge de cobertura com al percentatge de punts que es troben per sobre d'un threshold\n",
    "df_canopy = my_block.query('height > @threshold').copy()\n",
    "\n",
    "df_canopy['counted_canopy'] = np.zeros(df_canopy.shape[0])\n",
    "df_canopy = df_canopy.groupby(['x_p','y_p'])[['counted_canopy']].count().reset_index()\n",
    "\n",
    "my_block['counted_no_canopy'] = np.zeros(my_block.shape[0])\n",
    "my_block = my_block.groupby(['x_p', 'y_p'])[['counted_no_canopy']].count().reset_index()\n",
    "\n",
    "my_block = pd.merge(my_block, df_canopy, how='left', on = ['x_p','y_p'])\n",
    "\n",
    "my_block['counted_canopy'].fillna(0, inplace=True)\n",
    "my_block['predicted_CC'] = 100*my_block['counted_canopy'] / my_block['counted_no_canopy']"
   ]
  },
  {
   "cell_type": "code",
   "execution_count": 42,
   "id": "15e9fa87",
   "metadata": {},
   "outputs": [],
   "source": [
    "# Merging gt and blocks\n",
    "groundtruth.columns = ['x_p','y_p','CC']\n",
    "my_block = pd.merge(my_block, groundtruth, how='inner', on = ['x_p', 'y_p'])\n",
    "\n",
    "if my_block.shape[0] != groundtruth.shape[0]:\n",
    "    print(\"Groundtruth merging done wrong\")"
   ]
  },
  {
   "cell_type": "code",
   "execution_count": 43,
   "id": "9ff142f4",
   "metadata": {},
   "outputs": [
    {
     "name": "stdout",
     "output_type": "stream",
     "text": [
      "R2 score: 0.7540009571167059\n"
     ]
    }
   ],
   "source": [
    "# Calculating score\n",
    "r2 = r2_score(my_block['CC'], my_block['predicted_CC'])\n",
    "\n",
    "print(\"R2 score:\", r2)"
   ]
  },
  {
   "cell_type": "code",
   "execution_count": 44,
   "id": "a712634c",
   "metadata": {},
   "outputs": [
    {
     "data": {
      "image/png": "[encoded data removed]",
      "text/plain": [
       "<Figure size 432x288 with 1 Axes>"
      ]
     },
     "metadata": {
      "needs_background": "light"
     },
     "output_type": "display_data"
    }
   ],
   "source": [
    "# Plotting the results\n",
    "my_block.plot.scatter('CC', 'predicted_CC')\n",
    "plt.xlim(0, 100)\n",
    "plt.ylim(0,100)\n",
    "plt.plot([0,100],[0,100], c='r')\n",
    "\n",
    "plt.show()"
   ]
  },
  {
   "cell_type": "code",
   "execution_count": null,
   "id": "1b09c3dc",
   "metadata": {},
   "outputs": [],
   "source": []
  }
 ],
 "metadata": {
  "kernelspec": {
   "display_name": "Python 3 (ipykernel)",
   "language": "python",
   "name": "python3"
  },
  "language_info": {
   "codemirror_mode": {
    "name": "ipython",
    "version": 3
   },
   "file_extension": ".py",
   "mimetype": "text/x-python",
   "name": "python",
   "nbconvert_exporter": "python",
   "pygments_lexer": "ipython3",
   "version": "3.9.12"
  }
 },
 "nbformat": 4,
 "nbformat_minor": 5
}
