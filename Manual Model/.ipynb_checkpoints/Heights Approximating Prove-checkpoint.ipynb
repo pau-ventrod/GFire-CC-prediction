{
 "cells": [
  {
   "cell_type": "code",
   "execution_count": 1,
   "id": "4e6bac0a",
   "metadata": {},
   "outputs": [],
   "source": [
    "import pandas as pd\n",
    "import numpy as np\n",
    "from sklearn.metrics import r2_score\n",
    "from matplotlib import pyplot as plt\n",
    "from GFire_utils.AllFunctions import *\n",
    "\n",
    "pd.set_option('display.max_columns', None)"
   ]
  },
  {
   "cell_type": "code",
   "execution_count": 2,
   "id": "3897ac27",
   "metadata": {},
   "outputs": [],
   "source": [
    "# Hyperparameters\n",
    "x_coord = 'x'\n",
    "y_coord = 'y'\n",
    "z_coord = 'z'\n",
    "lidar_columns = [x_coord, y_coord, z_coord, 'class']\n",
    "heights_columns = [x_coord, y_coord, z_coord]\n",
    "\n",
    "height_inc = 2 \n",
    "height_centered = True "
   ]
  },
  {
   "cell_type": "code",
   "execution_count": 3,
   "id": "cb86a976",
   "metadata": {},
   "outputs": [],
   "source": [
    "# LiDAR and groundtruth reading\n",
    "my_block = pd.read_csv('../nonzerogt_dataset/input_nonzerogt.txt', sep=' ', header = None, names = lidar_columns)\n",
    "\n",
    "# Heights reading\n",
    "metadata = pd.read_csv('../nonzerogt_dataset/met2v10as0f298107mr1r010.txt', sep=' ', skipinitialspace=True, header = None,\n",
    "                       skip_blank_lines=True, nrows=6)\n",
    "NCOLS, NROWS, XCENT, YCENT, CELLSIZE, NODATA_VALUE = map(int, metadata.iloc[:][1])\n",
    "\n",
    "heights = pd.read_csv('../nonzerogt_dataset/met2v10as0f298107mr1r010.txt', sep=' ', header = None,\n",
    "                      skip_blank_lines=True, skiprows=6)"
   ]
  },
  {
   "cell_type": "code",
   "execution_count": 4,
   "id": "c190b0c6",
   "metadata": {},
   "outputs": [],
   "source": [
    "# Fixing formats\n",
    "heights = fix_format(heights, NCOLS)\n",
    "heights = index_matrix(heights, XCENT, YCENT, CELLSIZE)\n",
    "heights.columns = heights_columns\n",
    "\n",
    "if height_centered: # Situating Coordenates to the bottom left corner of the square\n",
    "    heights[x_coord] -= height_inc/2\n",
    "    heights[y_coord] -= height_inc/2"
   ]
  },
  {
   "cell_type": "code",
   "execution_count": 5,
   "id": "20bcf790",
   "metadata": {},
   "outputs": [
    {
     "name": "stdout",
     "output_type": "stream",
     "text": [
      "r2 Accuracy:  0.9778801758652331\n"
     ]
    },
    {
     "data": {
      "image/png": "[encoded data removed]",
      "text/plain": [
       "<Figure size 432x288 with 1 Axes>"
      ]
     },
     "metadata": {
      "needs_background": "light"
     },
     "output_type": "display_data"
    }
   ],
   "source": [
    "# Check how good our method predicts a block's height\n",
    "\n",
    "# Grouping pixels by 2x2m points\n",
    "my_block[x_coord] = ( my_block[x_coord]// height_inc )*height_inc\n",
    "my_block[y_coord] = ( my_block[y_coord]// height_inc )*height_inc\n",
    "\n",
    "if my_block[x_coord][0] % height_inc != heights[x_coord][0] % height_inc: # Blocks don't match, ones are even and others are odd\n",
    "    my_block[x_coord] += height_inc/2 * (2*(my_block[x_coord] % 2 == 1)-1)\n",
    "    my_block[y_coord] += height_inc/2 * (2*(my_block[y_coord] % 2 == 1)-1)\n",
    "\n",
    "heights = heights.rename({z_coord:'real_z'}, axis=1)\n",
    "my_block = my_block.rename({z_coord:'predicted_z'}, axis=1)\n",
    "my_block = my_block.groupby([x_coord, y_coord])[['predicted_z']].min().reset_index()\n",
    "heights = heights.groupby([x_coord, y_coord])[['real_z']].min().reset_index()\n",
    "\n",
    "my_block = pd.merge(my_block, heights, on=[x_coord, y_coord], how='left')\n",
    "\n",
    "if my_block[['real_z','predicted_z']].isnull().sum().sum() != 0:\n",
    "    print(\"Merging was not made correctly\")\n",
    "\n",
    "acc = r2_score(my_block['real_z'], my_block['predicted_z'])\n",
    "\n",
    "print(\"r2 Accuracy: \", acc)\n",
    "\n",
    "my_block.plot.scatter(x='real_z', y = 'predicted_z')\n",
    "plt.xlim(my_block['real_z'].min()-10, my_block['real_z'].max()+10)\n",
    "plt.ylim(my_block['real_z'].min()-10, my_block['real_z'].max()+10)\n",
    "plt.plot([my_block['real_z'].min()-10,my_block['real_z'].max()+10], \n",
    "         [my_block['real_z'].min()-10, my_block['real_z'].max()+10], c='red')\n",
    "plt.show()"
   ]
  },
  {
   "cell_type": "code",
   "execution_count": null,
   "id": "852e7f66",
   "metadata": {},
   "outputs": [],
   "source": []
  }
 ],
 "metadata": {
  "kernelspec": {
   "display_name": "Python 3 (ipykernel)",
   "language": "python",
   "name": "python3"
  },
  "language_info": {
   "codemirror_mode": {
    "name": "ipython",
    "version": 3
   },
   "file_extension": ".py",
   "mimetype": "text/x-python",
   "name": "python",
   "nbconvert_exporter": "python",
   "pygments_lexer": "ipython3",
   "version": "3.9.12"
  }
 },
 "nbformat": 4,
 "nbformat_minor": 5
}
